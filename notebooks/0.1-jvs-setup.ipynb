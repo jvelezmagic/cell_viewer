{
 "metadata": {
  "language_info": {
   "codemirror_mode": {
    "name": "ipython",
    "version": 3
   },
   "file_extension": ".py",
   "mimetype": "text/x-python",
   "name": "python",
   "nbconvert_exporter": "python",
   "pygments_lexer": "ipython3",
   "version": "3.9.1"
  },
  "orig_nbformat": 2,
  "kernelspec": {
   "name": "python3",
   "display_name": "Python 3",
   "language": "python"
  }
 },
 "nbformat": 4,
 "nbformat_minor": 2,
 "cells": [
  {
   "source": [
    "# 0.1 Set up"
   ],
   "cell_type": "markdown",
   "metadata": {}
  },
  {
   "cell_type": "code",
   "execution_count": 1,
   "metadata": {},
   "outputs": [],
   "source": [
    "from pyhere import here"
   ]
  },
  {
   "source": [
    "## Set up project's module"
   ],
   "cell_type": "markdown",
   "metadata": {}
  },
  {
   "source": [
    "To move beyond notebook prototyping, all reusable code should go into the `cell_viewer/`\n",
    "folder package. To use that package inside your project, install the project's\n",
    "module in editable mode, so you can edit files in the `cell_viewer/` folder and use the\n",
    "modules inside your notebooks :"
   ],
   "cell_type": "markdown",
   "metadata": {}
  },
  {
   "cell_type": "code",
   "execution_count": 2,
   "metadata": {},
   "outputs": [],
   "source": [
    "!pip install --quiet --editable {here()}"
   ]
  },
  {
   "source": [
    "Now to import the package functions you can use:\n",
    "\n",
    "```python\n",
    "import cell_viewer\n",
    "```"
   ],
   "cell_type": "markdown",
   "metadata": {}
  },
  {
   "source": [
    "## Build jupyter lab"
   ],
   "cell_type": "markdown",
   "metadata": {}
  },
  {
   "cell_type": "code",
   "execution_count": 3,
   "metadata": {},
   "outputs": [
    {
     "output_type": "stream",
     "name": "stdout",
     "text": [
      "[LabBuildApp] JupyterLab 2.2.6\n",
      "[LabBuildApp] Building in /Users/jvelezmagic/opt/anaconda3/envs/cell_viewer/share/jupyter/lab\n",
      "[LabBuildApp] Building jupyterlab assets (build:prod:minimize)\n"
     ]
    }
   ],
   "source": [
    "!jupyter lab build;"
   ]
  }
 ]
}