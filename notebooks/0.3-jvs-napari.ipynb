{
 "metadata": {
  "language_info": {
   "codemirror_mode": {
    "name": "ipython",
    "version": 3
   },
   "file_extension": ".py",
   "mimetype": "text/x-python",
   "name": "python",
   "nbconvert_exporter": "python",
   "pygments_lexer": "ipython3",
   "version": "3.9.1"
  },
  "orig_nbformat": 2,
  "kernelspec": {
   "name": "python391jvsc74a57bd0a1e7bf6c921a692ecf32f39b43f6bd88fee3c3894fa2b354a918045008690c98",
   "display_name": "Python 3.9.1 64-bit ('cell_viewer': conda)"
  },
  "metadata": {
   "interpreter": {
    "hash": "a1e7bf6c921a692ecf32f39b43f6bd88fee3c3894fa2b354a918045008690c98"
   }
  }
 },
 "nbformat": 4,
 "nbformat_minor": 2,
 "cells": [
  {
   "source": [
    "# 0.3 Napari"
   ],
   "cell_type": "markdown",
   "metadata": {}
  },
  {
   "source": [
    "## Set up"
   ],
   "cell_type": "markdown",
   "metadata": {}
  },
  {
   "cell_type": "code",
   "execution_count": 1,
   "metadata": {},
   "outputs": [],
   "source": [
    "%run ./0.2-jvs-before_to_start.ipynb"
   ]
  },
  {
   "source": [
    "## Libraries"
   ],
   "cell_type": "markdown",
   "metadata": {}
  },
  {
   "cell_type": "code",
   "execution_count": 2,
   "metadata": {},
   "outputs": [],
   "source": [
    "from cell_viewer.UJ.UJExperiment import UJExperiment\n",
    "from pprint import pprint\n",
    "import napari"
   ]
  },
  {
   "source": [
    "## Load experiment data"
   ],
   "cell_type": "markdown",
   "metadata": {}
  },
  {
   "source": [
    "### Experiment directory"
   ],
   "cell_type": "markdown",
   "metadata": {}
  },
  {
   "cell_type": "code",
   "execution_count": 3,
   "metadata": {},
   "outputs": [
    {
     "output_type": "execute_result",
     "data": {
      "text/plain": [
       "True"
      ]
     },
     "metadata": {},
     "execution_count": 3
    }
   ],
   "source": [
    "experiment_dir = data_raw_dir(\n",
    "    \"uJ_data\",\n",
    "    \"pBGT-AMP-Pulse\",\n",
    "    \"20190325_Bruno_pBGT_quimiostato\"\n",
    ")\n",
    "experiment_dir.exists() and experiment_dir.is_dir()"
   ]
  },
  {
   "source": [
    "### Read into UJExperiment object"
   ],
   "cell_type": "markdown",
   "metadata": {}
  },
  {
   "cell_type": "code",
   "execution_count": 4,
   "metadata": {},
   "outputs": [
    {
     "output_type": "execute_result",
     "data": {
      "text/plain": [
       "('20190325_Bruno_pBGT_quimiostato', True)"
      ]
     },
     "metadata": {},
     "execution_count": 4
    }
   ],
   "source": [
    "experiment = UJExperiment(\n",
    "    name=experiment_dir.name,\n",
    "    path=experiment_dir\n",
    ")\n",
    "\n",
    "experiment.name, experiment.path.exists()"
   ]
  },
  {
   "source": [
    "## Identify experiment traps"
   ],
   "cell_type": "markdown",
   "metadata": {}
  },
  {
   "cell_type": "code",
   "execution_count": 5,
   "metadata": {},
   "outputs": [
    {
     "output_type": "execute_result",
     "data": {
      "text/plain": [
       "dict_keys(['xy01', 'xy02', 'xy03', 'xy11', 'xy12', 'xy13', 'xy14', 'xy20', 'xy21', 'xy22', 'xy23', 'xy25', 'xy26', 'xy27', 'xy28', 'xy29', 'xy30', 'xy33', 'xy34', 'xy35', 'xy36', 'xy37', 'xy39', 'xy40', 'xy41', 'xy42', 'xy43', 'xy44', 'xy45', 'xy46', 'xy47', 'xy05', 'xy06', 'xy07', 'xy08', 'xy09', 'xy10', 'xy15', 'xy16', 'xy17', 'xy18', 'xy19', 'xy24', 'xy31', 'xy32', 'xy38', 'xy04'])"
      ]
     },
     "metadata": {},
     "execution_count": 5
    }
   ],
   "source": [
    "experiment_traps = experiment.trap_data(\"xy*\")\n",
    "experiment_traps.keys()"
   ]
  },
  {
   "source": [
    "## Read tifs from specific trap"
   ],
   "cell_type": "markdown",
   "metadata": {}
  },
  {
   "cell_type": "code",
   "execution_count": 6,
   "metadata": {},
   "outputs": [
    {
     "output_type": "execute_result",
     "data": {
      "text/plain": [
       "{'data_tif': {'DIC': dask.array<concatenate, shape=(25, 512, 640), dtype=uint16, chunksize=(1, 512, 640), chunktype=numpy.ndarray>,\n",
       "  'DsRed': dask.array<concatenate, shape=(25, 512, 640), dtype=uint16, chunksize=(1, 512, 640), chunktype=numpy.ndarray>,\n",
       "  'GFP': dask.array<concatenate, shape=(25, 512, 640), dtype=uint16, chunksize=(1, 512, 640), chunktype=numpy.ndarray>}}"
      ]
     },
     "metadata": {},
     "execution_count": 6
    }
   ],
   "source": [
    "xy_tifs = (\n",
    "    experiment_traps\n",
    "    .get(\"xy02\")\n",
    "    .read_tifs(search_on = [\"data_tif\"], compute = False)\n",
    ")\n",
    "\n",
    "xy_tifs"
   ]
  },
  {
   "source": [
    "## Run napari"
   ],
   "cell_type": "markdown",
   "metadata": {}
  },
  {
   "cell_type": "code",
   "execution_count": 7,
   "metadata": {},
   "outputs": [],
   "source": [
    "%gui qt5\n",
    "viewer = napari.Viewer()\n",
    "\n",
    "for directory, tifs in xy_tifs.items():\n",
    "    for name, tif in tifs.items():\n",
    "\n",
    "        if \"gfp\" in name.lower():\n",
    "            colormap = \"green\"\n",
    "            opacity = 1.0\n",
    "        elif \"red\" in name.lower():\n",
    "            colormap = \"red\"\n",
    "            opacity = 1.0\n",
    "        else:\n",
    "            colormap = \"gray\"\n",
    "            opacity = 0.1\n",
    "\n",
    "        viewer.add_image(\n",
    "            data=tif.compute(),\n",
    "            name=f\"{directory}_{name}\",\n",
    "            contrast_limits=[0, 2000],\n",
    "            multiscale=False,\n",
    "            blending=\"additive\",\n",
    "            colormap=colormap,\n",
    "            opacity=opacity\n",
    "        )"
   ]
  }
 ]
}